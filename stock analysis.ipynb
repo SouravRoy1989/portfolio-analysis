{
 "cells": [
  {
   "cell_type": "code",
   "execution_count": 1,
   "metadata": {},
   "outputs": [
    {
     "name": "stderr",
     "output_type": "stream",
     "text": [
      "C:\\Users\\DX\\Anaconda3\\lib\\site-packages\\statsmodels\\compat\\pandas.py:56: FutureWarning: The pandas.core.datetools module is deprecated and will be removed in a future version. Please use the pandas.tseries module instead.\n",
      "  from pandas.core import datetools\n"
     ]
    }
   ],
   "source": [
    "import numpy as np\n",
    "import pandas as pd\n",
    "import matplotlib.pyplot as plt\n",
    "import seaborn as sns\n",
    "%matplotlib inline\n",
    "import statsmodels.api as sm"
   ]
  },
  {
   "cell_type": "code",
   "execution_count": 2,
   "metadata": {
    "collapsed": true
   },
   "outputs": [],
   "source": [
    "ify=pd.read_csv('INFY Historical Data.csv')\n",
    "itc=pd.read_csv('ITC.csv')"
   ]
  },
  {
   "cell_type": "code",
   "execution_count": 3,
   "metadata": {},
   "outputs": [
    {
     "data": {
      "text/html": [
       "<div>\n",
       "<style>\n",
       "    .dataframe thead tr:only-child th {\n",
       "        text-align: right;\n",
       "    }\n",
       "\n",
       "    .dataframe thead th {\n",
       "        text-align: left;\n",
       "    }\n",
       "\n",
       "    .dataframe tbody tr th {\n",
       "        vertical-align: top;\n",
       "    }\n",
       "</style>\n",
       "<table border=\"1\" class=\"dataframe\">\n",
       "  <thead>\n",
       "    <tr style=\"text-align: right;\">\n",
       "      <th></th>\n",
       "      <th>Date</th>\n",
       "      <th>Price</th>\n",
       "      <th>Open</th>\n",
       "      <th>High</th>\n",
       "      <th>Low</th>\n",
       "      <th>Vol.</th>\n",
       "      <th>Change %</th>\n",
       "    </tr>\n",
       "  </thead>\n",
       "  <tbody>\n",
       "    <tr>\n",
       "      <th>0</th>\n",
       "      <td>1-Jan-18</td>\n",
       "      <td>262.30</td>\n",
       "      <td>263.25</td>\n",
       "      <td>266.30</td>\n",
       "      <td>261.25</td>\n",
       "      <td>10.46M</td>\n",
       "      <td>-0.36</td>\n",
       "    </tr>\n",
       "    <tr>\n",
       "      <th>1</th>\n",
       "      <td>29-Dec-17</td>\n",
       "      <td>263.25</td>\n",
       "      <td>262.50</td>\n",
       "      <td>264.00</td>\n",
       "      <td>262.25</td>\n",
       "      <td>6.57M</td>\n",
       "      <td>0.53</td>\n",
       "    </tr>\n",
       "    <tr>\n",
       "      <th>2</th>\n",
       "      <td>28-Dec-17</td>\n",
       "      <td>261.85</td>\n",
       "      <td>263.40</td>\n",
       "      <td>264.05</td>\n",
       "      <td>261.05</td>\n",
       "      <td>15.89M</td>\n",
       "      <td>-0.11</td>\n",
       "    </tr>\n",
       "    <tr>\n",
       "      <th>3</th>\n",
       "      <td>27-Dec-17</td>\n",
       "      <td>262.15</td>\n",
       "      <td>264.20</td>\n",
       "      <td>264.30</td>\n",
       "      <td>261.65</td>\n",
       "      <td>6.09M</td>\n",
       "      <td>-0.76</td>\n",
       "    </tr>\n",
       "    <tr>\n",
       "      <th>4</th>\n",
       "      <td>26-Dec-17</td>\n",
       "      <td>264.15</td>\n",
       "      <td>263.25</td>\n",
       "      <td>265.00</td>\n",
       "      <td>262.65</td>\n",
       "      <td>9.55M</td>\n",
       "      <td>0.40</td>\n",
       "    </tr>\n",
       "  </tbody>\n",
       "</table>\n",
       "</div>"
      ],
      "text/plain": [
       "        Date   Price    Open    High     Low    Vol.  Change %\n",
       "0   1-Jan-18  262.30  263.25  266.30  261.25  10.46M     -0.36\n",
       "1  29-Dec-17  263.25  262.50  264.00  262.25   6.57M      0.53\n",
       "2  28-Dec-17  261.85  263.40  264.05  261.05  15.89M     -0.11\n",
       "3  27-Dec-17  262.15  264.20  264.30  261.65   6.09M     -0.76\n",
       "4  26-Dec-17  264.15  263.25  265.00  262.65   9.55M      0.40"
      ]
     },
     "execution_count": 3,
     "metadata": {},
     "output_type": "execute_result"
    }
   ],
   "source": [
    "itc.head()"
   ]
  },
  {
   "cell_type": "code",
   "execution_count": 4,
   "metadata": {},
   "outputs": [
    {
     "data": {
      "text/html": [
       "<div>\n",
       "<style>\n",
       "    .dataframe thead tr:only-child th {\n",
       "        text-align: right;\n",
       "    }\n",
       "\n",
       "    .dataframe thead th {\n",
       "        text-align: left;\n",
       "    }\n",
       "\n",
       "    .dataframe tbody tr th {\n",
       "        vertical-align: top;\n",
       "    }\n",
       "</style>\n",
       "<table border=\"1\" class=\"dataframe\">\n",
       "  <thead>\n",
       "    <tr style=\"text-align: right;\">\n",
       "      <th></th>\n",
       "      <th>Date</th>\n",
       "      <th>Price</th>\n",
       "      <th>Open</th>\n",
       "      <th>High</th>\n",
       "      <th>Low</th>\n",
       "      <th>Vol.</th>\n",
       "      <th>Change %</th>\n",
       "    </tr>\n",
       "  </thead>\n",
       "  <tbody>\n",
       "    <tr>\n",
       "      <th>1983</th>\n",
       "      <td>8-Jan-10</td>\n",
       "      <td>85.02</td>\n",
       "      <td>84.64</td>\n",
       "      <td>85.69</td>\n",
       "      <td>84.64</td>\n",
       "      <td>4.88M</td>\n",
       "      <td>0.21</td>\n",
       "    </tr>\n",
       "    <tr>\n",
       "      <th>1984</th>\n",
       "      <td>7-Jan-10</td>\n",
       "      <td>84.84</td>\n",
       "      <td>85.19</td>\n",
       "      <td>85.69</td>\n",
       "      <td>84.10</td>\n",
       "      <td>4.99M</td>\n",
       "      <td>-0.32</td>\n",
       "    </tr>\n",
       "    <tr>\n",
       "      <th>1985</th>\n",
       "      <td>6-Jan-10</td>\n",
       "      <td>85.11</td>\n",
       "      <td>85.75</td>\n",
       "      <td>85.75</td>\n",
       "      <td>84.06</td>\n",
       "      <td>7.53M</td>\n",
       "      <td>0.24</td>\n",
       "    </tr>\n",
       "    <tr>\n",
       "      <th>1986</th>\n",
       "      <td>5-Jan-10</td>\n",
       "      <td>84.91</td>\n",
       "      <td>84.46</td>\n",
       "      <td>85.11</td>\n",
       "      <td>83.76</td>\n",
       "      <td>10.77M</td>\n",
       "      <td>0.99</td>\n",
       "    </tr>\n",
       "    <tr>\n",
       "      <th>1987</th>\n",
       "      <td>4-Jan-10</td>\n",
       "      <td>84.08</td>\n",
       "      <td>83.86</td>\n",
       "      <td>84.53</td>\n",
       "      <td>82.99</td>\n",
       "      <td>5.16M</td>\n",
       "      <td>1.14</td>\n",
       "    </tr>\n",
       "  </tbody>\n",
       "</table>\n",
       "</div>"
      ],
      "text/plain": [
       "          Date  Price   Open   High    Low    Vol.  Change %\n",
       "1983  8-Jan-10  85.02  84.64  85.69  84.64   4.88M      0.21\n",
       "1984  7-Jan-10  84.84  85.19  85.69  84.10   4.99M     -0.32\n",
       "1985  6-Jan-10  85.11  85.75  85.75  84.06   7.53M      0.24\n",
       "1986  5-Jan-10  84.91  84.46  85.11  83.76  10.77M      0.99\n",
       "1987  4-Jan-10  84.08  83.86  84.53  82.99   5.16M      1.14"
      ]
     },
     "execution_count": 4,
     "metadata": {},
     "output_type": "execute_result"
    }
   ],
   "source": [
    "itc.tail()"
   ]
  },
  {
   "cell_type": "code",
   "execution_count": 5,
   "metadata": {},
   "outputs": [
    {
     "data": {
      "text/html": [
       "<div>\n",
       "<style>\n",
       "    .dataframe thead tr:only-child th {\n",
       "        text-align: right;\n",
       "    }\n",
       "\n",
       "    .dataframe thead th {\n",
       "        text-align: left;\n",
       "    }\n",
       "\n",
       "    .dataframe tbody tr th {\n",
       "        vertical-align: top;\n",
       "    }\n",
       "</style>\n",
       "<table border=\"1\" class=\"dataframe\">\n",
       "  <thead>\n",
       "    <tr style=\"text-align: right;\">\n",
       "      <th></th>\n",
       "      <th>Date</th>\n",
       "      <th>Price</th>\n",
       "      <th>Open</th>\n",
       "      <th>High</th>\n",
       "      <th>Low</th>\n",
       "      <th>Vol.</th>\n",
       "      <th>Change %</th>\n",
       "    </tr>\n",
       "  </thead>\n",
       "  <tbody>\n",
       "    <tr>\n",
       "      <th>0</th>\n",
       "      <td>1-Jan-18</td>\n",
       "      <td>1,033.55</td>\n",
       "      <td>1,037.70</td>\n",
       "      <td>1,044.50</td>\n",
       "      <td>1,030.00</td>\n",
       "      <td>2.72M</td>\n",
       "      <td>-0.82</td>\n",
       "    </tr>\n",
       "    <tr>\n",
       "      <th>1</th>\n",
       "      <td>29-Dec-17</td>\n",
       "      <td>1,042.05</td>\n",
       "      <td>1,030.10</td>\n",
       "      <td>1,048.80</td>\n",
       "      <td>1,030.00</td>\n",
       "      <td>3.30M</td>\n",
       "      <td>0.85</td>\n",
       "    </tr>\n",
       "    <tr>\n",
       "      <th>2</th>\n",
       "      <td>28-Dec-17</td>\n",
       "      <td>1,033.25</td>\n",
       "      <td>1,030.00</td>\n",
       "      <td>1,040.00</td>\n",
       "      <td>1,023.80</td>\n",
       "      <td>4.22M</td>\n",
       "      <td>-0.10</td>\n",
       "    </tr>\n",
       "    <tr>\n",
       "      <th>3</th>\n",
       "      <td>27-Dec-17</td>\n",
       "      <td>1,034.25</td>\n",
       "      <td>1,028.00</td>\n",
       "      <td>1,039.10</td>\n",
       "      <td>1,027.40</td>\n",
       "      <td>3.49M</td>\n",
       "      <td>-0.13</td>\n",
       "    </tr>\n",
       "    <tr>\n",
       "      <th>4</th>\n",
       "      <td>26-Dec-17</td>\n",
       "      <td>1,035.60</td>\n",
       "      <td>1,030.00</td>\n",
       "      <td>1,041.50</td>\n",
       "      <td>1,023.00</td>\n",
       "      <td>5.40M</td>\n",
       "      <td>-0.36</td>\n",
       "    </tr>\n",
       "  </tbody>\n",
       "</table>\n",
       "</div>"
      ],
      "text/plain": [
       "        Date     Price      Open      High       Low   Vol.  Change %\n",
       "0   1-Jan-18  1,033.55  1,037.70  1,044.50  1,030.00  2.72M     -0.82\n",
       "1  29-Dec-17  1,042.05  1,030.10  1,048.80  1,030.00  3.30M      0.85\n",
       "2  28-Dec-17  1,033.25  1,030.00  1,040.00  1,023.80  4.22M     -0.10\n",
       "3  27-Dec-17  1,034.25  1,028.00  1,039.10  1,027.40  3.49M     -0.13\n",
       "4  26-Dec-17  1,035.60  1,030.00  1,041.50  1,023.00  5.40M     -0.36"
      ]
     },
     "execution_count": 5,
     "metadata": {},
     "output_type": "execute_result"
    }
   ],
   "source": [
    "ify.head()"
   ]
  },
  {
   "cell_type": "code",
   "execution_count": 6,
   "metadata": {},
   "outputs": [
    {
     "data": {
      "text/html": [
       "<div>\n",
       "<style>\n",
       "    .dataframe thead tr:only-child th {\n",
       "        text-align: right;\n",
       "    }\n",
       "\n",
       "    .dataframe thead th {\n",
       "        text-align: left;\n",
       "    }\n",
       "\n",
       "    .dataframe tbody tr th {\n",
       "        vertical-align: top;\n",
       "    }\n",
       "</style>\n",
       "<table border=\"1\" class=\"dataframe\">\n",
       "  <thead>\n",
       "    <tr style=\"text-align: right;\">\n",
       "      <th></th>\n",
       "      <th>Date</th>\n",
       "      <th>Price</th>\n",
       "      <th>Open</th>\n",
       "      <th>High</th>\n",
       "      <th>Low</th>\n",
       "      <th>Vol.</th>\n",
       "      <th>Change %</th>\n",
       "    </tr>\n",
       "  </thead>\n",
       "  <tbody>\n",
       "    <tr>\n",
       "      <th>1983</th>\n",
       "      <td>8-Jan-10</td>\n",
       "      <td>616.05</td>\n",
       "      <td>629.75</td>\n",
       "      <td>630.83</td>\n",
       "      <td>614.5</td>\n",
       "      <td>6.32M</td>\n",
       "      <td>-2.41</td>\n",
       "    </tr>\n",
       "    <tr>\n",
       "      <th>1984</th>\n",
       "      <td>7-Jan-10</td>\n",
       "      <td>631.26</td>\n",
       "      <td>646.65</td>\n",
       "      <td>646.65</td>\n",
       "      <td>629.55</td>\n",
       "      <td>5.45M</td>\n",
       "      <td>-2.25</td>\n",
       "    </tr>\n",
       "    <tr>\n",
       "      <th>1985</th>\n",
       "      <td>6-Jan-10</td>\n",
       "      <td>645.77</td>\n",
       "      <td>670.75</td>\n",
       "      <td>670.75</td>\n",
       "      <td>643.77</td>\n",
       "      <td>3.41M</td>\n",
       "      <td>-1.46</td>\n",
       "    </tr>\n",
       "    <tr>\n",
       "      <th>1986</th>\n",
       "      <td>5-Jan-10</td>\n",
       "      <td>655.34</td>\n",
       "      <td>655</td>\n",
       "      <td>657.67</td>\n",
       "      <td>650.02</td>\n",
       "      <td>3.45M</td>\n",
       "      <td>0.34</td>\n",
       "    </tr>\n",
       "    <tr>\n",
       "      <th>1987</th>\n",
       "      <td>4-Jan-10</td>\n",
       "      <td>653.15</td>\n",
       "      <td>652.5</td>\n",
       "      <td>657.5</td>\n",
       "      <td>648.83</td>\n",
       "      <td>2.03M</td>\n",
       "      <td>0.44</td>\n",
       "    </tr>\n",
       "  </tbody>\n",
       "</table>\n",
       "</div>"
      ],
      "text/plain": [
       "          Date   Price    Open    High     Low   Vol.  Change %\n",
       "1983  8-Jan-10  616.05  629.75  630.83   614.5  6.32M     -2.41\n",
       "1984  7-Jan-10  631.26  646.65  646.65  629.55  5.45M     -2.25\n",
       "1985  6-Jan-10  645.77  670.75  670.75  643.77  3.41M     -1.46\n",
       "1986  5-Jan-10  655.34     655  657.67  650.02  3.45M      0.34\n",
       "1987  4-Jan-10  653.15   652.5   657.5  648.83  2.03M      0.44"
      ]
     },
     "execution_count": 6,
     "metadata": {},
     "output_type": "execute_result"
    }
   ],
   "source": [
    "ify.tail()"
   ]
  },
  {
   "cell_type": "code",
   "execution_count": 7,
   "metadata": {
    "collapsed": true
   },
   "outputs": [],
   "source": [
    "# It seems start and end date matches so no need to do ant trim"
   ]
  },
  {
   "cell_type": "code",
   "execution_count": 8,
   "metadata": {},
   "outputs": [],
   "source": [
    "itc.index=pd.to_datetime(itc['Date'])\n",
    "ify.index=pd.to_datetime(ify['Date'])"
   ]
  },
  {
   "cell_type": "code",
   "execution_count": null,
   "metadata": {
    "collapsed": true
   },
   "outputs": [],
   "source": []
  },
  {
   "cell_type": "code",
   "execution_count": 9,
   "metadata": {},
   "outputs": [],
   "source": [
    "itc.drop('Date', axis=1,inplace=True)\n",
    "ify.drop('Date', axis=1,inplace=True)"
   ]
  },
  {
   "cell_type": "code",
   "execution_count": 10,
   "metadata": {},
   "outputs": [
    {
     "data": {
      "text/plain": [
       "<matplotlib.legend.Legend at 0xc26ad30>"
      ]
     },
     "execution_count": 10,
     "metadata": {},
     "output_type": "execute_result"
    },
    {
     "data": {
      "image/png": "[encoded data removed]",
      "text/plain": [
       "<matplotlib.figure.Figure at 0xc26a5f8>"
      ]
     },
     "metadata": {},
     "output_type": "display_data"
    }
   ],
   "source": [
    "sns.set()\n",
    "sns.set_palette(\"husl\")\n",
    "sns.set_style=('whitegrid')\n",
    "itc['Open'].plot(figsize=(16,6),label='ITC open ')\n",
    "plt.legend()\n"
   ]
  },
  {
   "cell_type": "code",
   "execution_count": 11,
   "metadata": {},
   "outputs": [
    {
     "name": "stdout",
     "output_type": "stream",
     "text": [
      "<class 'pandas.core.frame.DataFrame'>\n",
      "DatetimeIndex: 1988 entries, 2018-01-01 to 2010-01-04\n",
      "Data columns (total 6 columns):\n",
      "Price       1988 non-null object\n",
      "Open        1988 non-null object\n",
      "High        1988 non-null object\n",
      "Low         1988 non-null object\n",
      "Vol.        1988 non-null object\n",
      "Change %    1988 non-null float64\n",
      "dtypes: float64(1), object(5)\n",
      "memory usage: 108.7+ KB\n"
     ]
    }
   ],
   "source": [
    "ify.info()\n",
    "\n",
    "\n"
   ]
  },
  {
   "cell_type": "code",
   "execution_count": 12,
   "metadata": {},
   "outputs": [],
   "source": [
    "# removing coma so \n",
    "#for i in ['Price','Open','High','Low']:\n",
    "#ifs['Open']=str(ifs['Open'])\n",
    "for i in ['Price','Open','High','Low']:\n",
    "    ify[i]= ify[i].str.replace(',', '')\n",
    "    ify[i]=pd.to_numeric(ify[i])\n",
    "#ifs['Open']=ifs['Open'].replace(',','')\n",
    "    #ifs[i]=ifs[i].apply(lambda x: x.replace(\",\", \"\"))     \n",
    "    #ifs[i]=pd.to_numeric(ifs[i])\n"
   ]
  },
  {
   "cell_type": "code",
   "execution_count": 13,
   "metadata": {},
   "outputs": [
    {
     "data": {
      "text/html": [
       "<div>\n",
       "<style>\n",
       "    .dataframe thead tr:only-child th {\n",
       "        text-align: right;\n",
       "    }\n",
       "\n",
       "    .dataframe thead th {\n",
       "        text-align: left;\n",
       "    }\n",
       "\n",
       "    .dataframe tbody tr th {\n",
       "        vertical-align: top;\n",
       "    }\n",
       "</style>\n",
       "<table border=\"1\" class=\"dataframe\">\n",
       "  <thead>\n",
       "    <tr style=\"text-align: right;\">\n",
       "      <th></th>\n",
       "      <th>Price</th>\n",
       "      <th>Open</th>\n",
       "      <th>High</th>\n",
       "      <th>Low</th>\n",
       "      <th>Vol.</th>\n",
       "      <th>Change %</th>\n",
       "    </tr>\n",
       "    <tr>\n",
       "      <th>Date</th>\n",
       "      <th></th>\n",
       "      <th></th>\n",
       "      <th></th>\n",
       "      <th></th>\n",
       "      <th></th>\n",
       "      <th></th>\n",
       "    </tr>\n",
       "  </thead>\n",
       "  <tbody>\n",
       "    <tr>\n",
       "      <th>2018-01-01</th>\n",
       "      <td>1033.55</td>\n",
       "      <td>1037.7</td>\n",
       "      <td>1044.5</td>\n",
       "      <td>1030.0</td>\n",
       "      <td>2.72M</td>\n",
       "      <td>-0.82</td>\n",
       "    </tr>\n",
       "    <tr>\n",
       "      <th>2017-12-29</th>\n",
       "      <td>1042.05</td>\n",
       "      <td>1030.1</td>\n",
       "      <td>1048.8</td>\n",
       "      <td>1030.0</td>\n",
       "      <td>3.30M</td>\n",
       "      <td>0.85</td>\n",
       "    </tr>\n",
       "    <tr>\n",
       "      <th>2017-12-28</th>\n",
       "      <td>1033.25</td>\n",
       "      <td>1030.0</td>\n",
       "      <td>1040.0</td>\n",
       "      <td>1023.8</td>\n",
       "      <td>4.22M</td>\n",
       "      <td>-0.10</td>\n",
       "    </tr>\n",
       "    <tr>\n",
       "      <th>2017-12-27</th>\n",
       "      <td>1034.25</td>\n",
       "      <td>1028.0</td>\n",
       "      <td>1039.1</td>\n",
       "      <td>1027.4</td>\n",
       "      <td>3.49M</td>\n",
       "      <td>-0.13</td>\n",
       "    </tr>\n",
       "    <tr>\n",
       "      <th>2017-12-26</th>\n",
       "      <td>1035.60</td>\n",
       "      <td>1030.0</td>\n",
       "      <td>1041.5</td>\n",
       "      <td>1023.0</td>\n",
       "      <td>5.40M</td>\n",
       "      <td>-0.36</td>\n",
       "    </tr>\n",
       "  </tbody>\n",
       "</table>\n",
       "</div>"
      ],
      "text/plain": [
       "              Price    Open    High     Low   Vol.  Change %\n",
       "Date                                                        \n",
       "2018-01-01  1033.55  1037.7  1044.5  1030.0  2.72M     -0.82\n",
       "2017-12-29  1042.05  1030.1  1048.8  1030.0  3.30M      0.85\n",
       "2017-12-28  1033.25  1030.0  1040.0  1023.8  4.22M     -0.10\n",
       "2017-12-27  1034.25  1028.0  1039.1  1027.4  3.49M     -0.13\n",
       "2017-12-26  1035.60  1030.0  1041.5  1023.0  5.40M     -0.36"
      ]
     },
     "execution_count": 13,
     "metadata": {},
     "output_type": "execute_result"
    }
   ],
   "source": [
    "ify.head()"
   ]
  },
  {
   "cell_type": "code",
   "execution_count": 14,
   "metadata": {},
   "outputs": [
    {
     "data": {
      "text/html": [
       "<div>\n",
       "<style>\n",
       "    .dataframe thead tr:only-child th {\n",
       "        text-align: right;\n",
       "    }\n",
       "\n",
       "    .dataframe thead th {\n",
       "        text-align: left;\n",
       "    }\n",
       "\n",
       "    .dataframe tbody tr th {\n",
       "        vertical-align: top;\n",
       "    }\n",
       "</style>\n",
       "<table border=\"1\" class=\"dataframe\">\n",
       "  <thead>\n",
       "    <tr style=\"text-align: right;\">\n",
       "      <th></th>\n",
       "      <th>Price</th>\n",
       "      <th>Open</th>\n",
       "      <th>High</th>\n",
       "      <th>Low</th>\n",
       "      <th>Change %</th>\n",
       "    </tr>\n",
       "  </thead>\n",
       "  <tbody>\n",
       "    <tr>\n",
       "      <th>count</th>\n",
       "      <td>1988.000000</td>\n",
       "      <td>1988.000000</td>\n",
       "      <td>1988.000000</td>\n",
       "      <td>1988.000000</td>\n",
       "      <td>1988.000000</td>\n",
       "    </tr>\n",
       "    <tr>\n",
       "      <th>mean</th>\n",
       "      <td>846.765910</td>\n",
       "      <td>846.946167</td>\n",
       "      <td>855.633808</td>\n",
       "      <td>837.871484</td>\n",
       "      <td>0.037912</td>\n",
       "    </tr>\n",
       "    <tr>\n",
       "      <th>std</th>\n",
       "      <td>185.639617</td>\n",
       "      <td>186.212232</td>\n",
       "      <td>187.802743</td>\n",
       "      <td>183.863851</td>\n",
       "      <td>1.692971</td>\n",
       "    </tr>\n",
       "    <tr>\n",
       "      <th>min</th>\n",
       "      <td>530.950000</td>\n",
       "      <td>540.000000</td>\n",
       "      <td>541.000000</td>\n",
       "      <td>515.140000</td>\n",
       "      <td>-21.260000</td>\n",
       "    </tr>\n",
       "    <tr>\n",
       "      <th>25%</th>\n",
       "      <td>692.560000</td>\n",
       "      <td>691.470000</td>\n",
       "      <td>698.395000</td>\n",
       "      <td>685.515000</td>\n",
       "      <td>-0.740000</td>\n",
       "    </tr>\n",
       "    <tr>\n",
       "      <th>50%</th>\n",
       "      <td>819.510000</td>\n",
       "      <td>819.495000</td>\n",
       "      <td>828.555000</td>\n",
       "      <td>810.295000</td>\n",
       "      <td>0.040000</td>\n",
       "    </tr>\n",
       "    <tr>\n",
       "      <th>75%</th>\n",
       "      <td>998.087500</td>\n",
       "      <td>1000.105000</td>\n",
       "      <td>1009.500000</td>\n",
       "      <td>988.750000</td>\n",
       "      <td>0.942500</td>\n",
       "    </tr>\n",
       "    <tr>\n",
       "      <th>max</th>\n",
       "      <td>1267.600000</td>\n",
       "      <td>1267.000000</td>\n",
       "      <td>1279.300000</td>\n",
       "      <td>1261.100000</td>\n",
       "      <td>16.780000</td>\n",
       "    </tr>\n",
       "  </tbody>\n",
       "</table>\n",
       "</div>"
      ],
      "text/plain": [
       "             Price         Open         High          Low     Change %\n",
       "count  1988.000000  1988.000000  1988.000000  1988.000000  1988.000000\n",
       "mean    846.765910   846.946167   855.633808   837.871484     0.037912\n",
       "std     185.639617   186.212232   187.802743   183.863851     1.692971\n",
       "min     530.950000   540.000000   541.000000   515.140000   -21.260000\n",
       "25%     692.560000   691.470000   698.395000   685.515000    -0.740000\n",
       "50%     819.510000   819.495000   828.555000   810.295000     0.040000\n",
       "75%     998.087500  1000.105000  1009.500000   988.750000     0.942500\n",
       "max    1267.600000  1267.000000  1279.300000  1261.100000    16.780000"
      ]
     },
     "execution_count": 14,
     "metadata": {},
     "output_type": "execute_result"
    }
   ],
   "source": [
    "ify.describe()"
   ]
  },
  {
   "cell_type": "code",
   "execution_count": 15,
   "metadata": {},
   "outputs": [
    {
     "data": {
      "text/plain": [
       "<matplotlib.legend.Legend at 0xc26a470>"
      ]
     },
     "execution_count": 15,
     "metadata": {},
     "output_type": "execute_result"
    },
    {
     "data": {
      "image/png": "[encoded data removed]",
      "text/plain": [
       "<matplotlib.figure.Figure at 0xc33de80>"
      ]
     },
     "metadata": {},
     "output_type": "display_data"
    }
   ],
   "source": [
    "sns.set()\n",
    "sns.set_palette(\"husl\")\n",
    "sns.set_style=('whitegrid')\n",
    "ify['Open'].plot(figsize=(16,6),label='Iifosys open ')\n",
    "plt.legend()"
   ]
  },
  {
   "cell_type": "code",
   "execution_count": 16,
   "metadata": {},
   "outputs": [],
   "source": [
    "# comaring 2 stock at same period"
   ]
  },
  {
   "cell_type": "code",
   "execution_count": 17,
   "metadata": {},
   "outputs": [
    {
     "data": {
      "text/plain": [
       "<matplotlib.legend.Legend at 0xc26a5c0>"
      ]
     },
     "execution_count": 17,
     "metadata": {},
     "output_type": "execute_result"
    },
    {
     "data": {
      "image/png": "[encoded data removed]",
      "text/plain": [
       "<matplotlib.figure.Figure at 0xc8f0c18>"
      ]
     },
     "metadata": {},
     "output_type": "display_data"
    }
   ],
   "source": [
    "sns.set()\n",
    "sns.set_palette(\"husl\")\n",
    "sns.set_style=('whitegrid')\n",
    "itc['Open'].plot(figsize=(16,6),label='ITC open ')\n",
    "ify['Open'].plot(figsize=(16,6),label='Iifosys open ')\n",
    "plt.legend()"
   ]
  },
  {
   "cell_type": "code",
   "execution_count": 18,
   "metadata": {},
   "outputs": [],
   "source": [
    "#Adding a new column normalizing return by dividin with first day of stock price open\n",
    "\n",
    "for sto in (itc,ify):\n",
    "    sto['Normal_Return']=sto['Open']/sto.iloc[0]['Open']"
   ]
  },
  {
   "cell_type": "code",
   "execution_count": 19,
   "metadata": {},
   "outputs": [
    {
     "data": {
      "text/html": [
       "<div>\n",
       "<style>\n",
       "    .dataframe thead tr:only-child th {\n",
       "        text-align: right;\n",
       "    }\n",
       "\n",
       "    .dataframe thead th {\n",
       "        text-align: left;\n",
       "    }\n",
       "\n",
       "    .dataframe tbody tr th {\n",
       "        vertical-align: top;\n",
       "    }\n",
       "</style>\n",
       "<table border=\"1\" class=\"dataframe\">\n",
       "  <thead>\n",
       "    <tr style=\"text-align: right;\">\n",
       "      <th></th>\n",
       "      <th>Price</th>\n",
       "      <th>Open</th>\n",
       "      <th>High</th>\n",
       "      <th>Low</th>\n",
       "      <th>Vol.</th>\n",
       "      <th>Change %</th>\n",
       "      <th>Normal_Return</th>\n",
       "    </tr>\n",
       "    <tr>\n",
       "      <th>Date</th>\n",
       "      <th></th>\n",
       "      <th></th>\n",
       "      <th></th>\n",
       "      <th></th>\n",
       "      <th></th>\n",
       "      <th></th>\n",
       "      <th></th>\n",
       "    </tr>\n",
       "  </thead>\n",
       "  <tbody>\n",
       "    <tr>\n",
       "      <th>2018-01-01</th>\n",
       "      <td>262.30</td>\n",
       "      <td>263.25</td>\n",
       "      <td>266.30</td>\n",
       "      <td>261.25</td>\n",
       "      <td>10.46M</td>\n",
       "      <td>-0.36</td>\n",
       "      <td>1.000000</td>\n",
       "    </tr>\n",
       "    <tr>\n",
       "      <th>2017-12-29</th>\n",
       "      <td>263.25</td>\n",
       "      <td>262.50</td>\n",
       "      <td>264.00</td>\n",
       "      <td>262.25</td>\n",
       "      <td>6.57M</td>\n",
       "      <td>0.53</td>\n",
       "      <td>0.997151</td>\n",
       "    </tr>\n",
       "    <tr>\n",
       "      <th>2017-12-28</th>\n",
       "      <td>261.85</td>\n",
       "      <td>263.40</td>\n",
       "      <td>264.05</td>\n",
       "      <td>261.05</td>\n",
       "      <td>15.89M</td>\n",
       "      <td>-0.11</td>\n",
       "      <td>1.000570</td>\n",
       "    </tr>\n",
       "    <tr>\n",
       "      <th>2017-12-27</th>\n",
       "      <td>262.15</td>\n",
       "      <td>264.20</td>\n",
       "      <td>264.30</td>\n",
       "      <td>261.65</td>\n",
       "      <td>6.09M</td>\n",
       "      <td>-0.76</td>\n",
       "      <td>1.003609</td>\n",
       "    </tr>\n",
       "    <tr>\n",
       "      <th>2017-12-26</th>\n",
       "      <td>264.15</td>\n",
       "      <td>263.25</td>\n",
       "      <td>265.00</td>\n",
       "      <td>262.65</td>\n",
       "      <td>9.55M</td>\n",
       "      <td>0.40</td>\n",
       "      <td>1.000000</td>\n",
       "    </tr>\n",
       "  </tbody>\n",
       "</table>\n",
       "</div>"
      ],
      "text/plain": [
       "             Price    Open    High     Low    Vol.  Change %  Normal_Return\n",
       "Date                                                                       \n",
       "2018-01-01  262.30  263.25  266.30  261.25  10.46M     -0.36       1.000000\n",
       "2017-12-29  263.25  262.50  264.00  262.25   6.57M      0.53       0.997151\n",
       "2017-12-28  261.85  263.40  264.05  261.05  15.89M     -0.11       1.000570\n",
       "2017-12-27  262.15  264.20  264.30  261.65   6.09M     -0.76       1.003609\n",
       "2017-12-26  264.15  263.25  265.00  262.65   9.55M      0.40       1.000000"
      ]
     },
     "execution_count": 19,
     "metadata": {},
     "output_type": "execute_result"
    }
   ],
   "source": [
    "itc.head()"
   ]
  },
  {
   "cell_type": "code",
   "execution_count": 20,
   "metadata": {},
   "outputs": [],
   "source": [
    "# using dummy investment we are investing at 60, 40 ratio.\n",
    "for stock,allo in zip([itc,ify],[.6,.4]):\n",
    "    stock['Allocation'] = stock['Normal_Return']*allo"
   ]
  },
  {
   "cell_type": "code",
   "execution_count": 21,
   "metadata": {
    "collapsed": true
   },
   "outputs": [],
   "source": [
    "#taking into consideration i am taking 1 lakh rs for investment i am dividing the allocation "
   ]
  },
  {
   "cell_type": "code",
   "execution_count": 22,
   "metadata": {
    "collapsed": true
   },
   "outputs": [],
   "source": [
    "for stock in [itc,ify]:\n",
    "    stock['Position Values'] = stock['Allocation']*100000"
   ]
  },
  {
   "cell_type": "code",
   "execution_count": null,
   "metadata": {
    "collapsed": true
   },
   "outputs": [],
   "source": []
  },
  {
   "cell_type": "code",
   "execution_count": 23,
   "metadata": {},
   "outputs": [],
   "source": [
    "portfolio_val = pd.concat([ify['Position Values'],itc['Position Values']],axis=1)"
   ]
  },
  {
   "cell_type": "code",
   "execution_count": 24,
   "metadata": {},
   "outputs": [
    {
     "data": {
      "text/html": [
       "<div>\n",
       "<style>\n",
       "    .dataframe thead tr:only-child th {\n",
       "        text-align: right;\n",
       "    }\n",
       "\n",
       "    .dataframe thead th {\n",
       "        text-align: left;\n",
       "    }\n",
       "\n",
       "    .dataframe tbody tr th {\n",
       "        vertical-align: top;\n",
       "    }\n",
       "</style>\n",
       "<table border=\"1\" class=\"dataframe\">\n",
       "  <thead>\n",
       "    <tr style=\"text-align: right;\">\n",
       "      <th></th>\n",
       "      <th>Position Values</th>\n",
       "      <th>Position Values</th>\n",
       "    </tr>\n",
       "    <tr>\n",
       "      <th>Date</th>\n",
       "      <th></th>\n",
       "      <th></th>\n",
       "    </tr>\n",
       "  </thead>\n",
       "  <tbody>\n",
       "    <tr>\n",
       "      <th>2018-01-01</th>\n",
       "      <td>40000.000000</td>\n",
       "      <td>60000.000000</td>\n",
       "    </tr>\n",
       "    <tr>\n",
       "      <th>2017-12-29</th>\n",
       "      <td>39707.044425</td>\n",
       "      <td>59829.059829</td>\n",
       "    </tr>\n",
       "    <tr>\n",
       "      <th>2017-12-28</th>\n",
       "      <td>39703.189747</td>\n",
       "      <td>60034.188034</td>\n",
       "    </tr>\n",
       "    <tr>\n",
       "      <th>2017-12-27</th>\n",
       "      <td>39626.096174</td>\n",
       "      <td>60216.524217</td>\n",
       "    </tr>\n",
       "    <tr>\n",
       "      <th>2017-12-26</th>\n",
       "      <td>39703.189747</td>\n",
       "      <td>60000.000000</td>\n",
       "    </tr>\n",
       "  </tbody>\n",
       "</table>\n",
       "</div>"
      ],
      "text/plain": [
       "            Position Values  Position Values\n",
       "Date                                        \n",
       "2018-01-01     40000.000000     60000.000000\n",
       "2017-12-29     39707.044425     59829.059829\n",
       "2017-12-28     39703.189747     60034.188034\n",
       "2017-12-27     39626.096174     60216.524217\n",
       "2017-12-26     39703.189747     60000.000000"
      ]
     },
     "execution_count": 24,
     "metadata": {},
     "output_type": "execute_result"
    }
   ],
   "source": [
    "portfolio_val.head()"
   ]
  },
  {
   "cell_type": "code",
   "execution_count": 25,
   "metadata": {},
   "outputs": [],
   "source": [
    "portfolio_val.columns = ['Infosys_val','Itc_val']"
   ]
  },
  {
   "cell_type": "code",
   "execution_count": 26,
   "metadata": {},
   "outputs": [
    {
     "data": {
      "text/html": [
       "<div>\n",
       "<style>\n",
       "    .dataframe thead tr:only-child th {\n",
       "        text-align: right;\n",
       "    }\n",
       "\n",
       "    .dataframe thead th {\n",
       "        text-align: left;\n",
       "    }\n",
       "\n",
       "    .dataframe tbody tr th {\n",
       "        vertical-align: top;\n",
       "    }\n",
       "</style>\n",
       "<table border=\"1\" class=\"dataframe\">\n",
       "  <thead>\n",
       "    <tr style=\"text-align: right;\">\n",
       "      <th></th>\n",
       "      <th>Infosys_val</th>\n",
       "      <th>Itc_val</th>\n",
       "    </tr>\n",
       "    <tr>\n",
       "      <th>Date</th>\n",
       "      <th></th>\n",
       "      <th></th>\n",
       "    </tr>\n",
       "  </thead>\n",
       "  <tbody>\n",
       "    <tr>\n",
       "      <th>2018-01-01</th>\n",
       "      <td>40000.000000</td>\n",
       "      <td>60000.000000</td>\n",
       "    </tr>\n",
       "    <tr>\n",
       "      <th>2017-12-29</th>\n",
       "      <td>39707.044425</td>\n",
       "      <td>59829.059829</td>\n",
       "    </tr>\n",
       "    <tr>\n",
       "      <th>2017-12-28</th>\n",
       "      <td>39703.189747</td>\n",
       "      <td>60034.188034</td>\n",
       "    </tr>\n",
       "    <tr>\n",
       "      <th>2017-12-27</th>\n",
       "      <td>39626.096174</td>\n",
       "      <td>60216.524217</td>\n",
       "    </tr>\n",
       "    <tr>\n",
       "      <th>2017-12-26</th>\n",
       "      <td>39703.189747</td>\n",
       "      <td>60000.000000</td>\n",
       "    </tr>\n",
       "  </tbody>\n",
       "</table>\n",
       "</div>"
      ],
      "text/plain": [
       "             Infosys_val       Itc_val\n",
       "Date                                  \n",
       "2018-01-01  40000.000000  60000.000000\n",
       "2017-12-29  39707.044425  59829.059829\n",
       "2017-12-28  39703.189747  60034.188034\n",
       "2017-12-27  39626.096174  60216.524217\n",
       "2017-12-26  39703.189747  60000.000000"
      ]
     },
     "execution_count": 26,
     "metadata": {},
     "output_type": "execute_result"
    }
   ],
   "source": [
    "portfolio_val.head()"
   ]
  },
  {
   "cell_type": "code",
   "execution_count": 27,
   "metadata": {
    "collapsed": true
   },
   "outputs": [],
   "source": [
    "portfolio_val['Total_Pos'] = portfolio_val.sum(axis=1)"
   ]
  },
  {
   "cell_type": "code",
   "execution_count": 28,
   "metadata": {},
   "outputs": [
    {
     "data": {
      "text/html": [
       "<div>\n",
       "<style>\n",
       "    .dataframe thead tr:only-child th {\n",
       "        text-align: right;\n",
       "    }\n",
       "\n",
       "    .dataframe thead th {\n",
       "        text-align: left;\n",
       "    }\n",
       "\n",
       "    .dataframe tbody tr th {\n",
       "        vertical-align: top;\n",
       "    }\n",
       "</style>\n",
       "<table border=\"1\" class=\"dataframe\">\n",
       "  <thead>\n",
       "    <tr style=\"text-align: right;\">\n",
       "      <th></th>\n",
       "      <th>Infosys_val</th>\n",
       "      <th>Itc_val</th>\n",
       "      <th>Total_Pos</th>\n",
       "    </tr>\n",
       "    <tr>\n",
       "      <th>Date</th>\n",
       "      <th></th>\n",
       "      <th></th>\n",
       "      <th></th>\n",
       "    </tr>\n",
       "  </thead>\n",
       "  <tbody>\n",
       "    <tr>\n",
       "      <th>2018-01-01</th>\n",
       "      <td>40000.000000</td>\n",
       "      <td>60000.000000</td>\n",
       "      <td>100000.000000</td>\n",
       "    </tr>\n",
       "    <tr>\n",
       "      <th>2017-12-29</th>\n",
       "      <td>39707.044425</td>\n",
       "      <td>59829.059829</td>\n",
       "      <td>99536.104254</td>\n",
       "    </tr>\n",
       "    <tr>\n",
       "      <th>2017-12-28</th>\n",
       "      <td>39703.189747</td>\n",
       "      <td>60034.188034</td>\n",
       "      <td>99737.377781</td>\n",
       "    </tr>\n",
       "    <tr>\n",
       "      <th>2017-12-27</th>\n",
       "      <td>39626.096174</td>\n",
       "      <td>60216.524217</td>\n",
       "      <td>99842.620391</td>\n",
       "    </tr>\n",
       "    <tr>\n",
       "      <th>2017-12-26</th>\n",
       "      <td>39703.189747</td>\n",
       "      <td>60000.000000</td>\n",
       "      <td>99703.189747</td>\n",
       "    </tr>\n",
       "  </tbody>\n",
       "</table>\n",
       "</div>"
      ],
      "text/plain": [
       "             Infosys_val       Itc_val      Total_Pos\n",
       "Date                                                 \n",
       "2018-01-01  40000.000000  60000.000000  100000.000000\n",
       "2017-12-29  39707.044425  59829.059829   99536.104254\n",
       "2017-12-28  39703.189747  60034.188034   99737.377781\n",
       "2017-12-27  39626.096174  60216.524217   99842.620391\n",
       "2017-12-26  39703.189747  60000.000000   99703.189747"
      ]
     },
     "execution_count": 28,
     "metadata": {},
     "output_type": "execute_result"
    }
   ],
   "source": [
    "portfolio_val.head()"
   ]
  },
  {
   "cell_type": "code",
   "execution_count": 29,
   "metadata": {},
   "outputs": [
    {
     "data": {
      "text/plain": [
       "Text(0.5,1,'Total Portfolio Value')"
      ]
     },
     "execution_count": 29,
     "metadata": {},
     "output_type": "execute_result"
    },
    {
     "data": {
      "image/png": "[encoded data removed]",
      "text/plain": [
       "<matplotlib.figure.Figure at 0xc956390>"
      ]
     },
     "metadata": {},
     "output_type": "display_data"
    }
   ],
   "source": [
    "#visualizing the portfolio\n",
    "portfolio_val['Total_Pos'].plot(figsize=(10,8))\n",
    "plt.title('Total Portfolio Value')"
   ]
  },
  {
   "cell_type": "code",
   "execution_count": 30,
   "metadata": {},
   "outputs": [
    {
     "data": {
      "text/plain": [
       "<matplotlib.axes._subplots.AxesSubplot at 0xc933cc0>"
      ]
     },
     "execution_count": 30,
     "metadata": {},
     "output_type": "execute_result"
    },
    {
     "data": {
      "image/png": "[encoded data removed]",
      "text/plain": [
       "<matplotlib.figure.Figure at 0xca3d240>"
      ]
     },
     "metadata": {},
     "output_type": "display_data"
    }
   ],
   "source": [
    "portfolio_val.drop('Total_Pos',axis=1).plot(figsize=(16,10),kind='line')"
   ]
  },
  {
   "cell_type": "code",
   "execution_count": 32,
   "metadata": {
    "collapsed": true
   },
   "outputs": [],
   "source": [
    "#Now i am calculating the  daily return \n",
    "portfolio_val['Daily_Return'] = portfolio_val['Total_Pos'].pct_change(1)"
   ]
  },
  {
   "cell_type": "code",
   "execution_count": 33,
   "metadata": {},
   "outputs": [
    {
     "data": {
      "text/plain": [
       "count    1987.000000\n",
       "mean       -0.000333\n",
       "std         0.012441\n",
       "min        -0.074218\n",
       "25%        -0.007437\n",
       "50%        -0.000684\n",
       "75%         0.006496\n",
       "max         0.088115\n",
       "Name: Daily_Return, dtype: float64"
      ]
     },
     "execution_count": 33,
     "metadata": {},
     "output_type": "execute_result"
    }
   ],
   "source": [
    "# analysing the daily return \n",
    "portfolio_val['Daily_Return'].describe()\n"
   ]
  },
  {
   "cell_type": "code",
   "execution_count": 36,
   "metadata": {},
   "outputs": [
    {
     "data": {
      "text/plain": [
       "<matplotlib.axes._subplots.AxesSubplot at 0xca68e80>"
      ]
     },
     "execution_count": 36,
     "metadata": {},
     "output_type": "execute_result"
    },
    {
     "data": {
      "image/png": "[encoded data removed]",
      "text/plain": [
       "<matplotlib.figure.Figure at 0xc9f92e8>"
      ]
     },
     "metadata": {},
     "output_type": "display_data"
    }
   ],
   "source": [
    "portfolio_val['Daily_Return'].plot(bins=100,kind='hist',figsize=(10,8))\n",
    "portfolio_val['Daily_Return'].plot(kind='kde')"
   ]
  },
  {
   "cell_type": "code",
   "execution_count": 38,
   "metadata": {},
   "outputs": [
    {
     "name": "stdout",
     "output_type": "stream",
     "text": [
      "Our return -55.73483171609798%\n"
     ]
    }
   ],
   "source": [
    "# Now I am calculating the cumilitive return. \n",
    "cum_ret = 100 * (portfolio_val['Total_Pos'][-1]/portfolio_val['Total_Pos'][0] -1 )\n",
    "print('Our return {}%'.format(cum_ret))"
   ]
  },
  {
   "cell_type": "code",
   "execution_count": 39,
   "metadata": {
    "collapsed": true
   },
   "outputs": [],
   "source": [
    "# we are at loss "
   ]
  },
  {
   "cell_type": "code",
   "execution_count": 43,
   "metadata": {},
   "outputs": [],
   "source": [
    "# Calculating the sharp ratio. It is used to measure risk\n",
    "# i am taking 6 percent as risk free return\n",
    "SR = (portfolio_val['Daily_Return'].mean()-.06)/portfolio_val['Daily_Return'].std()\n"
   ]
  },
  {
   "cell_type": "code",
   "execution_count": 45,
   "metadata": {},
   "outputs": [
    {
     "data": {
      "text/plain": [
       "-76.98445525041603"
      ]
     },
     "execution_count": 45,
     "metadata": {},
     "output_type": "execute_result"
    }
   ],
   "source": [
    "ASR = (252**0.5)*SR\n",
    "ASR"
   ]
  },
  {
   "cell_type": "code",
   "execution_count": 46,
   "metadata": {
    "collapsed": true
   },
   "outputs": [],
   "source": [
    "#Now we are going to allocate our portfolio in optimum way to geet a better return"
   ]
  },
  {
   "cell_type": "code",
   "execution_count": 47,
   "metadata": {},
   "outputs": [
    {
     "data": {
      "text/html": [
       "<div>\n",
       "<style>\n",
       "    .dataframe thead tr:only-child th {\n",
       "        text-align: right;\n",
       "    }\n",
       "\n",
       "    .dataframe thead th {\n",
       "        text-align: left;\n",
       "    }\n",
       "\n",
       "    .dataframe tbody tr th {\n",
       "        vertical-align: top;\n",
       "    }\n",
       "</style>\n",
       "<table border=\"1\" class=\"dataframe\">\n",
       "  <thead>\n",
       "    <tr style=\"text-align: right;\">\n",
       "      <th></th>\n",
       "      <th>Infosys_val</th>\n",
       "      <th>Itc_val</th>\n",
       "      <th>Total_Pos</th>\n",
       "      <th>Daily_Return</th>\n",
       "    </tr>\n",
       "    <tr>\n",
       "      <th>Date</th>\n",
       "      <th></th>\n",
       "      <th></th>\n",
       "      <th></th>\n",
       "      <th></th>\n",
       "    </tr>\n",
       "  </thead>\n",
       "  <tbody>\n",
       "    <tr>\n",
       "      <th>2018-01-01</th>\n",
       "      <td>40000.000000</td>\n",
       "      <td>60000.000000</td>\n",
       "      <td>100000.000000</td>\n",
       "      <td>NaN</td>\n",
       "    </tr>\n",
       "    <tr>\n",
       "      <th>2017-12-29</th>\n",
       "      <td>39707.044425</td>\n",
       "      <td>59829.059829</td>\n",
       "      <td>99536.104254</td>\n",
       "      <td>-0.004639</td>\n",
       "    </tr>\n",
       "    <tr>\n",
       "      <th>2017-12-28</th>\n",
       "      <td>39703.189747</td>\n",
       "      <td>60034.188034</td>\n",
       "      <td>99737.377781</td>\n",
       "      <td>0.002022</td>\n",
       "    </tr>\n",
       "    <tr>\n",
       "      <th>2017-12-27</th>\n",
       "      <td>39626.096174</td>\n",
       "      <td>60216.524217</td>\n",
       "      <td>99842.620391</td>\n",
       "      <td>0.001055</td>\n",
       "    </tr>\n",
       "    <tr>\n",
       "      <th>2017-12-26</th>\n",
       "      <td>39703.189747</td>\n",
       "      <td>60000.000000</td>\n",
       "      <td>99703.189747</td>\n",
       "      <td>-0.001397</td>\n",
       "    </tr>\n",
       "  </tbody>\n",
       "</table>\n",
       "</div>"
      ],
      "text/plain": [
       "             Infosys_val       Itc_val      Total_Pos  Daily_Return\n",
       "Date                                                               \n",
       "2018-01-01  40000.000000  60000.000000  100000.000000           NaN\n",
       "2017-12-29  39707.044425  59829.059829   99536.104254     -0.004639\n",
       "2017-12-28  39703.189747  60034.188034   99737.377781      0.002022\n",
       "2017-12-27  39626.096174  60216.524217   99842.620391      0.001055\n",
       "2017-12-26  39703.189747  60000.000000   99703.189747     -0.001397"
      ]
     },
     "execution_count": 47,
     "metadata": {},
     "output_type": "execute_result"
    }
   ],
   "source": [
    "portfolio_val.head()"
   ]
  },
  {
   "cell_type": "code",
   "execution_count": 48,
   "metadata": {
    "collapsed": true
   },
   "outputs": [],
   "source": [
    "portfolio_val['Infy_DL']=portfolio_val['Infosys_val'].pct_change(1)\n",
    "portfolio_val['ITC_DL']=portfolio_val['Itc_val'].pct_change(1)"
   ]
  },
  {
   "cell_type": "code",
   "execution_count": 49,
   "metadata": {},
   "outputs": [
    {
     "data": {
      "text/html": [
       "<div>\n",
       "<style>\n",
       "    .dataframe thead tr:only-child th {\n",
       "        text-align: right;\n",
       "    }\n",
       "\n",
       "    .dataframe thead th {\n",
       "        text-align: left;\n",
       "    }\n",
       "\n",
       "    .dataframe tbody tr th {\n",
       "        vertical-align: top;\n",
       "    }\n",
       "</style>\n",
       "<table border=\"1\" class=\"dataframe\">\n",
       "  <thead>\n",
       "    <tr style=\"text-align: right;\">\n",
       "      <th></th>\n",
       "      <th>Infosys_val</th>\n",
       "      <th>Itc_val</th>\n",
       "      <th>Total_Pos</th>\n",
       "      <th>Daily_Return</th>\n",
       "      <th>Infy_DL</th>\n",
       "      <th>ITC_DL</th>\n",
       "    </tr>\n",
       "    <tr>\n",
       "      <th>Date</th>\n",
       "      <th></th>\n",
       "      <th></th>\n",
       "      <th></th>\n",
       "      <th></th>\n",
       "      <th></th>\n",
       "      <th></th>\n",
       "    </tr>\n",
       "  </thead>\n",
       "  <tbody>\n",
       "    <tr>\n",
       "      <th>2018-01-01</th>\n",
       "      <td>40000.000000</td>\n",
       "      <td>60000.000000</td>\n",
       "      <td>100000.000000</td>\n",
       "      <td>NaN</td>\n",
       "      <td>NaN</td>\n",
       "      <td>NaN</td>\n",
       "    </tr>\n",
       "    <tr>\n",
       "      <th>2017-12-29</th>\n",
       "      <td>39707.044425</td>\n",
       "      <td>59829.059829</td>\n",
       "      <td>99536.104254</td>\n",
       "      <td>-0.004639</td>\n",
       "      <td>-0.007324</td>\n",
       "      <td>-0.002849</td>\n",
       "    </tr>\n",
       "    <tr>\n",
       "      <th>2017-12-28</th>\n",
       "      <td>39703.189747</td>\n",
       "      <td>60034.188034</td>\n",
       "      <td>99737.377781</td>\n",
       "      <td>0.002022</td>\n",
       "      <td>-0.000097</td>\n",
       "      <td>0.003429</td>\n",
       "    </tr>\n",
       "    <tr>\n",
       "      <th>2017-12-27</th>\n",
       "      <td>39626.096174</td>\n",
       "      <td>60216.524217</td>\n",
       "      <td>99842.620391</td>\n",
       "      <td>0.001055</td>\n",
       "      <td>-0.001942</td>\n",
       "      <td>0.003037</td>\n",
       "    </tr>\n",
       "    <tr>\n",
       "      <th>2017-12-26</th>\n",
       "      <td>39703.189747</td>\n",
       "      <td>60000.000000</td>\n",
       "      <td>99703.189747</td>\n",
       "      <td>-0.001397</td>\n",
       "      <td>0.001946</td>\n",
       "      <td>-0.003596</td>\n",
       "    </tr>\n",
       "  </tbody>\n",
       "</table>\n",
       "</div>"
      ],
      "text/plain": [
       "             Infosys_val       Itc_val      Total_Pos  Daily_Return   Infy_DL  \\\n",
       "Date                                                                            \n",
       "2018-01-01  40000.000000  60000.000000  100000.000000           NaN       NaN   \n",
       "2017-12-29  39707.044425  59829.059829   99536.104254     -0.004639 -0.007324   \n",
       "2017-12-28  39703.189747  60034.188034   99737.377781      0.002022 -0.000097   \n",
       "2017-12-27  39626.096174  60216.524217   99842.620391      0.001055 -0.001942   \n",
       "2017-12-26  39703.189747  60000.000000   99703.189747     -0.001397  0.001946   \n",
       "\n",
       "              ITC_DL  \n",
       "Date                  \n",
       "2018-01-01       NaN  \n",
       "2017-12-29 -0.002849  \n",
       "2017-12-28  0.003429  \n",
       "2017-12-27  0.003037  \n",
       "2017-12-26 -0.003596  "
      ]
     },
     "execution_count": 49,
     "metadata": {},
     "output_type": "execute_result"
    }
   ],
   "source": [
    "portfolio_val.head()"
   ]
  },
  {
   "cell_type": "code",
   "execution_count": 61,
   "metadata": {},
   "outputs": [],
   "source": [
    "stks=pd.DataFrame()\n",
    "stks['Infy_DL']=portfolio_val['Infy_DL']\n",
    "stks['ITC_DL']=portfolio_val['ITC_DL']\n"
   ]
  },
  {
   "cell_type": "code",
   "execution_count": 64,
   "metadata": {},
   "outputs": [
    {
     "data": {
      "image/png": "[encoded data removed]",
      "text/plain": [
       "<matplotlib.figure.Figure at 0xf143c88>"
      ]
     },
     "metadata": {},
     "output_type": "display_data"
    }
   ],
   "source": [
    "stks.hist(bins=100,figsize=(12,6));\n",
    "plt.tight_layout()"
   ]
  },
  {
   "cell_type": "code",
   "execution_count": 68,
   "metadata": {},
   "outputs": [
    {
     "data": {
      "text/html": [
       "<div>\n",
       "<style>\n",
       "    .dataframe thead tr:only-child th {\n",
       "        text-align: right;\n",
       "    }\n",
       "\n",
       "    .dataframe thead th {\n",
       "        text-align: left;\n",
       "    }\n",
       "\n",
       "    .dataframe tbody tr th {\n",
       "        vertical-align: top;\n",
       "    }\n",
       "</style>\n",
       "<table border=\"1\" class=\"dataframe\">\n",
       "  <thead>\n",
       "    <tr style=\"text-align: right;\">\n",
       "      <th></th>\n",
       "      <th>Infy_DL</th>\n",
       "      <th>ITC_DL</th>\n",
       "    </tr>\n",
       "  </thead>\n",
       "  <tbody>\n",
       "    <tr>\n",
       "      <th>Infy_DL</th>\n",
       "      <td>0.070247</td>\n",
       "      <td>0.009430</td>\n",
       "    </tr>\n",
       "    <tr>\n",
       "      <th>ITC_DL</th>\n",
       "      <td>0.009430</td>\n",
       "      <td>0.066889</td>\n",
       "    </tr>\n",
       "  </tbody>\n",
       "</table>\n",
       "</div>"
      ],
      "text/plain": [
       "          Infy_DL    ITC_DL\n",
       "Infy_DL  0.070247  0.009430\n",
       "ITC_DL   0.009430  0.066889"
      ]
     },
     "execution_count": 68,
     "metadata": {},
     "output_type": "execute_result"
    }
   ],
   "source": [
    "stks.cov()*252"
   ]
  },
  {
   "cell_type": "code",
   "execution_count": 67,
   "metadata": {},
   "outputs": [
    {
     "data": {
      "text/html": [
       "<div>\n",
       "<style>\n",
       "    .dataframe thead tr:only-child th {\n",
       "        text-align: right;\n",
       "    }\n",
       "\n",
       "    .dataframe thead th {\n",
       "        text-align: left;\n",
       "    }\n",
       "\n",
       "    .dataframe tbody tr th {\n",
       "        vertical-align: top;\n",
       "    }\n",
       "</style>\n",
       "<table border=\"1\" class=\"dataframe\">\n",
       "  <thead>\n",
       "    <tr style=\"text-align: right;\">\n",
       "      <th></th>\n",
       "      <th>Infy_DL</th>\n",
       "      <th>ITC_DL</th>\n",
       "    </tr>\n",
       "  </thead>\n",
       "  <tbody>\n",
       "    <tr>\n",
       "      <th>count</th>\n",
       "      <td>1987.000000</td>\n",
       "      <td>1987.000000</td>\n",
       "    </tr>\n",
       "    <tr>\n",
       "      <th>mean</th>\n",
       "      <td>-0.000096</td>\n",
       "      <td>-0.000443</td>\n",
       "    </tr>\n",
       "    <tr>\n",
       "      <th>std</th>\n",
       "      <td>0.016696</td>\n",
       "      <td>0.016292</td>\n",
       "    </tr>\n",
       "    <tr>\n",
       "      <th>min</th>\n",
       "      <td>-0.088510</td>\n",
       "      <td>-0.111927</td>\n",
       "    </tr>\n",
       "    <tr>\n",
       "      <th>25%</th>\n",
       "      <td>-0.008198</td>\n",
       "      <td>-0.009240</td>\n",
       "    </tr>\n",
       "    <tr>\n",
       "      <th>50%</th>\n",
       "      <td>-0.000136</td>\n",
       "      <td>-0.000567</td>\n",
       "    </tr>\n",
       "    <tr>\n",
       "      <th>75%</th>\n",
       "      <td>0.007562</td>\n",
       "      <td>0.008191</td>\n",
       "    </tr>\n",
       "    <tr>\n",
       "      <th>max</th>\n",
       "      <td>0.146306</td>\n",
       "      <td>0.144712</td>\n",
       "    </tr>\n",
       "  </tbody>\n",
       "</table>\n",
       "</div>"
      ],
      "text/plain": [
       "           Infy_DL       ITC_DL\n",
       "count  1987.000000  1987.000000\n",
       "mean     -0.000096    -0.000443\n",
       "std       0.016696     0.016292\n",
       "min      -0.088510    -0.111927\n",
       "25%      -0.008198    -0.009240\n",
       "50%      -0.000136    -0.000567\n",
       "75%       0.007562     0.008191\n",
       "max       0.146306     0.144712"
      ]
     },
     "execution_count": 67,
     "metadata": {},
     "output_type": "execute_result"
    }
   ],
   "source": [
    "stks.describe()"
   ]
  },
  {
   "cell_type": "code",
   "execution_count": 70,
   "metadata": {},
   "outputs": [
    {
     "name": "stdout",
     "output_type": "stream",
     "text": [
      "Stocks\n",
      "Index(['Infy_DL', 'ITC_DL'], dtype='object')\n",
      "\n",
      "\n",
      "Creating Random Weights\n",
      "[ 0.5488135   0.71518937]\n",
      "\n",
      "\n"
     ]
    }
   ],
   "source": [
    "np.random.seed(0)\n",
    "\n",
    "# Stock Columns\n",
    "print('Stocks')\n",
    "print(stks.columns)\n",
    "print('\\n')\n",
    "\n",
    "# Create Random Weights\n",
    "print('Creating Random Weights')\n",
    "weights = np.array(np.random.random(2))\n",
    "print(weights)\n",
    "print('\\n')\n",
    "\n"
   ]
  },
  {
   "cell_type": "code",
   "execution_count": 71,
   "metadata": {},
   "outputs": [
    {
     "name": "stdout",
     "output_type": "stream",
     "text": [
      "Rebalance to sum to 1.0\n",
      "[ 0.43418691  0.56581309]\n",
      "\n",
      "\n"
     ]
    }
   ],
   "source": [
    "# Rebalance Weights\n",
    "print('Rebalance to sum to 1.0')\n",
    "weights = weights / np.sum(weights)\n",
    "print(weights)\n",
    "print('\\n')\n",
    "\n"
   ]
  },
  {
   "cell_type": "code",
   "execution_count": 72,
   "metadata": {},
   "outputs": [
    {
     "name": "stdout",
     "output_type": "stream",
     "text": [
      "Expected Portfolio Return\n",
      "-0.07364329764609391\n",
      "\n",
      "\n"
     ]
    }
   ],
   "source": [
    "# Expected Return\n",
    "print('Expected Portfolio Return')\n",
    "exp_ret = np.sum(stks.mean() * weights) *252\n",
    "print(exp_ret)\n",
    "print('\\n')\n"
   ]
  },
  {
   "cell_type": "code",
   "execution_count": 73,
   "metadata": {},
   "outputs": [
    {
     "name": "stdout",
     "output_type": "stream",
     "text": [
      "Expected Volatility\n",
      "0.198218078699\n",
      "\n",
      "\n",
      "Sharpe Ratio\n",
      "-0.371526644438\n"
     ]
    }
   ],
   "source": [
    "# Expected Variance\n",
    "print('Expected Volatility')\n",
    "exp_vol = np.sqrt(np.dot(weights.T, np.dot(stks.cov() * 252, weights)))\n",
    "print(exp_vol)\n",
    "print('\\n')\n",
    "\n",
    "# Sharpe Ratio\n",
    "SR = exp_ret/exp_vol\n",
    "print('Sharpe Ratio')\n",
    "print(SR)"
   ]
  },
  {
   "cell_type": "code",
   "execution_count": null,
   "metadata": {
    "collapsed": true
   },
   "outputs": [],
   "source": []
  }
 ],
 "metadata": {
  "kernelspec": {
   "display_name": "Python 3",
   "language": "python",
   "name": "python3"
  },
  "language_info": {
   "codemirror_mode": {
    "name": "ipython",
    "version": 3
   },
   "file_extension": ".py",
   "mimetype": "text/x-python",
   "name": "python",
   "nbconvert_exporter": "python",
   "pygments_lexer": "ipython3",
   "version": "3.6.3"
  }
 },
 "nbformat": 4,
 "nbformat_minor": 2
}
